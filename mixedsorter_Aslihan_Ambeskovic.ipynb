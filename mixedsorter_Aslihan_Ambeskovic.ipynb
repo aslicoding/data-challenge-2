{
 "cells": [
  {
   "cell_type": "code",
   "execution_count": 1,
   "metadata": {
    "collapsed": false
   },
   "outputs": [],
   "source": [
    "import sys\n",
    "import re\n",
    "\n",
    "#the function opens a text file, turns it into a list and removes all non alphanumeric characters and then  splits\n",
    "#the elements as numeric and character elements which are both sorted separately. It creates a new list from these sorted lists \n",
    "#in which the nth element in the new list remains as the same type as the original list.  \n",
    "\n",
    "#read the textfile\n",
    "def cleanup(textfile):\n",
    "    to_be_sorted=open(textfile, 'r')\n",
    "    #split into a list of strings\n",
    "    splitdata = to_be_sorted.read().split()\n",
    "    to_be_sorted.close()\n",
    "    #remove the non alpha-numerical characters\n",
    "    cleaned_word=[]\n",
    "    for word in splitdata:\n",
    "        word = re.sub(r'[^0-9a-zA-Z\\-d+]+', '', word)\n",
    "        cleaned_word.append(word)\n",
    "    #return cleaned_word \n",
    "    #make a list of  characters and numbers and sort each list ^-?[0-9]\\d*(\\.\\d+)?$\n",
    "    charlist=[]\n",
    "    numberlist=[]\n",
    "    for word in cleaned_word:\n",
    "        if word.isalpha():\n",
    "            charlist.append(word)\n",
    "        else:\n",
    "            numberlist.append(word)\n",
    "    #sort the lists\n",
    "    numberlist=sorted(numberlist)\n",
    "    charlist=sorted(charlist)\n",
    "    #print numberlist\n",
    "    #print charlist\n",
    "    #figure out the order by which the elements need to be appended to the new list from the ordered lists\n",
    "    mix_sorted=[]\n",
    "    count=0\n",
    "    count2=0\n",
    "    for i in range(len(cleaned_word)):\n",
    "        if cleaned_word[i].isalpha():\n",
    "            mix_sorted.append(charlist[count])\n",
    "            count+=1\n",
    "        else:\n",
    "            mix_sorted.append(numberlist[count2])\n",
    "            count2+=1\n",
    "    return mix_sorted\n",
    "\n",
    "  \n",
    "       "
   ]
  },
  {
   "cell_type": "code",
   "execution_count": 2,
   "metadata": {
    "collapsed": false
   },
   "outputs": [
    {
     "data": {
      "text/plain": [
       "['asli', 'fma', 'kskR', '-22', 'sl', '222', '8292', 'wrie']"
      ]
     },
     "execution_count": 2,
     "metadata": {},
     "output_type": "execute_result"
    }
   ],
   "source": [
    "#let's try it out with this file\n",
    "cleanup('test.txt')\n",
    "\n"
   ]
  },
  {
   "cell_type": "code",
   "execution_count": 3,
   "metadata": {
    "collapsed": false
   },
   "outputs": [
    {
     "name": "stdout",
     "output_type": "stream",
     "text": [
      "wrie ksk@#R$ sl 8292 asli 222 -22 f$$ma\n",
      "\n",
      "\n"
     ]
    }
   ],
   "source": [
    "#Let's print out the original file and compare\n",
    "f = open('test.txt', 'r')\n",
    "print (f.read())"
   ]
  },
  {
   "cell_type": "code",
   "execution_count": 4,
   "metadata": {
    "collapsed": true
   },
   "outputs": [],
   "source": [
    "#The function looks good.  It removed the non alphanumeric characters and it kept the negative sign and assigned sorted values\n",
    "#to appropriate positions."
   ]
  },
  {
   "cell_type": "code",
   "execution_count": 5,
   "metadata": {
    "collapsed": true
   },
   "outputs": [],
   "source": [
    "#This function takes a text file, orders its elements as mentioned above and outputs the contents to a new textfile\n",
    "def output(inputfile,f):\n",
    "    sorted_list=cleanup(inputfile)\n",
    "    #print sorted_list\n",
    "    str1=' '.join(sorted_list)\n",
    "    #print str1\n",
    "    f = open(f, 'a')\n",
    "    f.write(str1)\n",
    "    f.close()\n"
   ]
  },
  {
   "cell_type": "code",
   "execution_count": 6,
   "metadata": {
    "collapsed": false
   },
   "outputs": [
    {
     "name": "stdout",
     "output_type": "stream",
     "text": [
      "asli fma kskR -22 sl 222 8292 wrie\n"
     ]
    }
   ],
   "source": [
    "#let's see if our outputfile is what we expect it to be\n",
    "output('test.txt','Results.txt')\n",
    "f=open('Results.txt')\n",
    "print (f.read())\n",
    "#it looks good"
   ]
  },
  {
   "cell_type": "code",
   "execution_count": 7,
   "metadata": {
    "collapsed": false
   },
   "outputs": [],
   "source": [
    "#now let's write a test class for testing\n",
    "#creating the files for testing: Empty file for input\n",
    "f = open('test1.txt', 'a')\n",
    "f.write(\"\")\n",
    "f.close()\n",
    "f = open('expected1.txt', 'a')\n",
    "f.write(\"\")\n",
    "f.close()\n",
    "\n"
   ]
  },
  {
   "cell_type": "code",
   "execution_count": 8,
   "metadata": {
    "collapsed": true
   },
   "outputs": [],
   "source": [
    "#creating the files for testing: Strings and numbers mixed\n",
    "f = open('test2.txt', 'a')\n",
    "f.write(\"d$%!~frank -9393 0 01 artiCHO#\")\n",
    "f.close()\n",
    "f = open('expected2.txt', 'a')\n",
    "f.write(\"artiCHO -9393 0 01 dfrank\")\n",
    "f.close()"
   ]
  },
  {
   "cell_type": "code",
   "execution_count": 9,
   "metadata": {
    "collapsed": false
   },
   "outputs": [],
   "source": [
    "#creating the files for testing: a file with a lot of empty spaces\n",
    "f = open('test3.txt', 'a')\n",
    "f.write(\"tr#             fun!!!!!!!!!!!!!~~~ blahhhhh\")\n",
    "f.close()\n",
    "f = open('expected3.txt', 'a')\n",
    "f.write(\"blahhhhh fun tr\")\n",
    "f.close()\n"
   ]
  },
  {
   "cell_type": "code",
   "execution_count": 10,
   "metadata": {
    "collapsed": true
   },
   "outputs": [],
   "source": [
    "#creating the files for testing: a file with large numbers, numbers with leading zeros and strings with non alphanumeric chars\n",
    "f = open('test4.txt', 'a')\n",
    "f.write(\"2093840823409823 0000000000000003 039$$%$@ str$%$% stri@### stroooooong\")\n",
    "f.close()\n",
    "f = open('expected4.txt', 'a')\n",
    "f.write(\"0000000000000003 039 2093840823409823 str stri stroooooong\")\n",
    "f.close()"
   ]
  },
  {
   "cell_type": "code",
   "execution_count": 11,
   "metadata": {
    "collapsed": false
   },
   "outputs": [
    {
     "name": "stderr",
     "output_type": "stream",
     "text": [
      "test_alotofzeros (__main__.test_test) ... ok\n",
      "test_empty (__main__.test_test) ... ok\n",
      "test_intchar (__main__.test_test) ... ok\n",
      "test_spaces (__main__.test_test) ... ok\n",
      "\n",
      "----------------------------------------------------------------------\n",
      "Ran 4 tests in 0.019s\n",
      "\n",
      "OK\n"
     ]
    },
    {
     "data": {
      "text/plain": [
       "<unittest.runner.TextTestResult run=4 errors=0 failures=0>"
      ]
     },
     "execution_count": 11,
     "metadata": {},
     "output_type": "execute_result"
    }
   ],
   "source": [
    "import unittest\n",
    "import filecmp\n",
    "\n",
    "\n",
    "\n",
    "class test_test(unittest.TestCase):\n",
    "#first test to figure out if given an empty file will it return an empty file\n",
    "\n",
    "    def test_empty(self):\n",
    "        output('test1.txt','result1.txt')\n",
    "        self.assertTrue(filecmp.cmp('result1.txt', 'expected1.txt'))\n",
    "#testing a textfile that has a mixture of strings and numbers\n",
    "        \n",
    "    def test_intchar(self):\n",
    "        output('test2.txt','result2.txt')\n",
    "        self.assertTrue(filecmp.cmp('result2.txt', 'expected2.txt'))\n",
    "        \n",
    "#testing a textfile that has a lot of spaces\n",
    "        \n",
    "    def test_spaces(self):\n",
    "        output('test3.txt','result3.txt')\n",
    "        self.assertTrue(filecmp.cmp('result3.txt', 'expected3.txt'))\n",
    "        \n",
    "#testing a textfile with large numbers, numbers with leading zeros and strings with non alphanumeric chars\n",
    "        \n",
    "    def test_alotofzeros(self):\n",
    "        output('test4.txt','result4.txt')\n",
    "        self.assertTrue(filecmp.cmp('result4.txt', 'expected4.txt'))\n",
    "  \n",
    "\n",
    "suite = unittest.TestLoader().loadTestsFromTestCase(test_test)\n",
    "unittest.TextTestRunner(verbosity=2).run(suite)"
   ]
  },
  {
   "cell_type": "markdown",
   "metadata": {},
   "source": [
    "# Analysis: "
   ]
  },
  {
   "cell_type": "markdown",
   "metadata": {},
   "source": [
    "Algorithm consists of two functions where the first function reads a textfile and turns it into a list. Subsequently, list is cleaned by using regular expressions where anything except for alphanumeric values and (-) minus sign followed by a number is removed. Cleaned list is divided into character and numeric lists and sorted which is followed by a loop that loops through the initial cleaned list and sublists to insert the sorted chars and numbers into the right positions. Second function takes in the names of the input and the output files and applies the first function to the input and writes it into the output file. Complexiy of the sorted function is O(n log n). In the loop, I am looping through the outer list and the inner list which makes the complexiy O(n^2) which also represents the bottleneck for this algorithm. I would love to see if anybody tried recursion for this step. For my unittest I use flcmp which compares the content of two files. I simply create test files and expected files and read the output file of the function and compare it to the expected.  "
   ]
  }
 ],
 "metadata": {
  "kernelspec": {
   "display_name": "Python 2",
   "language": "python",
   "name": "python2"
  },
  "language_info": {
   "codemirror_mode": {
    "name": "ipython",
    "version": 2
   },
   "file_extension": ".py",
   "mimetype": "text/x-python",
   "name": "python",
   "nbconvert_exporter": "python",
   "pygments_lexer": "ipython2",
   "version": "2.7.11"
  }
 },
 "nbformat": 4,
 "nbformat_minor": 0
}
